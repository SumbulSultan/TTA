{
 "metadata": {
  "language_info": {
   "codemirror_mode": {
    "name": "ipython",
    "version": 3
   },
   "file_extension": ".py",
   "mimetype": "text/x-python",
   "name": "python",
   "nbconvert_exporter": "python",
   "pygments_lexer": "ipython3",
   "version": "3.9.2-final"
  },
  "orig_nbformat": 2,
  "kernelspec": {
   "name": "python392jvsc74a57bd0b617106f7c4154b916282ad7b07ba347bdfcfd9b9474270c9523bae2fd61cdb0",
   "display_name": "Python 3.9.2 64-bit"
  },
  "metadata": {
   "interpreter": {
    "hash": "b617106f7c4154b916282ad7b07ba347bdfcfd9b9474270c9523bae2fd61cdb0"
   }
  }
 },
 "nbformat": 4,
 "nbformat_minor": 2,
 "cells": [
  {
   "cell_type": "code",
   "execution_count": 35,
   "metadata": {},
   "outputs": [],
   "source": [
    "my_file = open(\"Numbers.txt\" , \"w\")\n",
    "\n",
    "for i in range(4):\n",
    "    my_file.write(input(\"Enter a number\"))\n",
    "    my_file.write(\"\\n\")\n"
   ]
  },
  {
   "cell_type": "code",
   "execution_count": 53,
   "metadata": {},
   "outputs": [
    {
     "output_type": "stream",
     "name": "stdout",
     "text": [
      "Great job you got a B!\n",
      " Well done you have exceeded your target!\n"
     ]
    }
   ],
   "source": [
    " mark = int(input(\"What is your % mark?\"))\n",
    "\n",
    "if mark >= 90 and mark <= 100:\n",
    "   print(\"Congratulations you got an A!\")\n",
    "elif mark >= 80 and mark <=90:\n",
    "     print(\"Great job you got a B!\")\n",
    "elif mark >=70 and mark <= 80:\n",
    "     print(\"Well done you got a C!\")\n",
    "elif mark >= 60 and mark <= 70:\n",
    "     print(\"You got a D\")\n",
    "else:\n",
    "     print(\"You got an F\")\n",
    "\n",
    "target = int(input(\"What was your target grade?\"))\n",
    "\n",
    "if mark > target:\n",
    "   print(\" Well done you have exceeded your target!\")\n",
    "elif mark == target:\n",
    "     print(\"Good job you hit your target!\")\n",
    "else:\n",
    "    print(\"You haven't hit your target, you need to study more\")\n"
   ]
  }
 ]
}