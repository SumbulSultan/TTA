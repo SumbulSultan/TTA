{
 "metadata": {
  "language_info": {
   "codemirror_mode": {
    "name": "ipython",
    "version": 3
   },
   "file_extension": ".py",
   "mimetype": "text/x-python",
   "name": "python",
   "nbconvert_exporter": "python",
   "pygments_lexer": "ipython3",
   "version": "3.9.2"
  },
  "orig_nbformat": 2,
  "kernelspec": {
   "name": "python392jvsc74a57bd03431a937adbc350ca9a64588acf35ffd9ea4ffbd4a34a28233a6bfa6918041b4",
   "display_name": "Python 3.9.2 64-bit ('PythonSoftwareFoundation.Python.3.9_qbz5n2kfra8p0')"
  },
  "metadata": {
   "interpreter": {
    "hash": "3431a937adbc350ca9a64588acf35ffd9ea4ffbd4a34a28233a6bfa6918041b4"
   }
  }
 },
 "nbformat": 4,
 "nbformat_minor": 2,
 "cells": [
  {
   "cell_type": "code",
   "execution_count": 1,
   "metadata": {},
   "outputs": [],
   "source": [
    "my_file = open(\"Numbers.txt\" , \"w\")\n",
    "\n",
    "for i in range(4):\n",
    "    my_file.write(input(\"Enter a number\"))\n",
    "    my_file.write(\"\\n\")\n",
    "\n",
    "my_file.close()"
   ]
  },
  {
   "cell_type": "code",
   "execution_count": 4,
   "metadata": {},
   "outputs": [
    {
     "output_type": "stream",
     "name": "stdout",
     "text": [
      "Congratulations you got an A!\n",
      "Good job you hit your target!\n"
     ]
    }
   ],
   "source": [
    "mark = int(input(\"What is your % mark?\"))\n",
    "\n",
    "if mark >= 90 and mark <= 100:\n",
    "    print(\"Congratulations you got an A!\")\n",
    "elif mark >= 80 and mark <= 90:\n",
    "    print(\"Great Job you got a B!\")\n",
    "elif mark >= 70 and mark <= 80:\n",
    "    print(\"Well done you got a C!\")\n",
    "elif mark >= 60 and mark <= 70:\n",
    "    print(\"You got a D\")\n",
    "\n",
    "\n",
    "target = int(input(\"What was your target grade?\"))\n",
    "\n",
    "if mark > target:\n",
    "    print(\"Well done you have exceeded your target!\")\n",
    "elif mark == target:\n",
    "    print(\"Good job you hit your target!\")\n",
    "else:\n",
    "    print(\"You haven't hit your target, you need to study more\")"
   ]
  }
 ]
}