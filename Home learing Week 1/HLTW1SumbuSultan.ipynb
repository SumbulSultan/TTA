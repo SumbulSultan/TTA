{
 "metadata": {
  "language_info": {
   "codemirror_mode": {
    "name": "ipython",
    "version": 3
   },
   "file_extension": ".py",
   "mimetype": "text/x-python",
   "name": "python",
   "nbconvert_exporter": "python",
   "pygments_lexer": "ipython3",
   "version": "3.9.2-final"
  },
  "orig_nbformat": 2,
  "kernelspec": {
   "name": "python3",
   "display_name": "Python 3.9.2 64-bit",
   "metadata": {
    "interpreter": {
     "hash": "3431a937adbc350ca9a64588acf35ffd9ea4ffbd4a34a28233a6bfa6918041b4"
    }
   }
  }
 },
 "nbformat": 4,
 "nbformat_minor": 2,
 "cells": [
  {
   "cell_type": "code",
   "execution_count": 40,
   "metadata": {},
   "outputs": [
    {
     "output_type": "stream",
     "name": "stdout",
     "text": [
      "Well, Sumbul I am thinking of a number between 1 and 10\n",
      "Nope, sorry you got it wrong\n"
     ]
    }
   ],
   "source": [
    "import random\n",
    "name = input(\"Hiya, What is your name? \")\n",
    "number = random.randint(1,10)\n",
    "print(\"Well, \" + name + \" I am thinking of a number between 1 and 10\")\n",
    "guess = int(input(\"Guess the number \"))\n",
    "\n",
    "if guess == 8:\n",
    "    print(\"Well done! \" + name + \"You got it right\")\n",
    "else:\n",
    "    print(\"Nope, sorry you got it wrong\")"
   ]
  },
  {
   "cell_type": "code",
   "execution_count": 66,
   "metadata": {},
   "outputs": [
    {
     "output_type": "stream",
     "name": "stdout",
     "text": [
      "Hi,Sumbul Pick a number to hear a joke\n",
      "Don't trust atoms, they make up everything\n"
     ]
    }
   ],
   "source": [
    "import random\n",
    "name = input(\"Hello! What is your name? \")\n",
    "number1 = random.randint(1,25)\n",
    "number2 = random.randint(26,50)\n",
    "number3 = random.randint(51,100)\n",
    "print(\"Hi,\" + name + \" Pick a number to hear a joke\")\n",
    "\n",
    "guess = int(input(\"What is your favourite number? \"))\n",
    "joke1 = (\"I ate a clock yesterday, it was very time consuming.\")\n",
    "joke2 = (\"Don't trust atoms, they make up everything\")\n",
    "joke3 = (\"I went to buy camouflage trousers but I couldn't find any\")\n",
    "\n",
    "if guess < number1:\n",
    "    print(joke1)\n",
    "elif guess < number2:\n",
    "    print(joke2)\n",
    "elif guess < number3:\n",
    "    print(joke3)\n",
    "else: \n",
    "    print(\"Sorry, better luck next time\")"
   ]
  },
  {
   "cell_type": "code",
   "execution_count": 21,
   "metadata": {},
   "outputs": [
    {
     "output_type": "stream",
     "name": "stdout",
     "text": [
      "So, Sumbul Your favourite meal is, Popadoms Then, Chicken Lasagne with a glass of Coke And to finish off with some Chocolate Cake\n"
     ]
    }
   ],
   "source": [
    "name = input(\"What is your name? \")\n",
    "starter = input(\"What is your favourite starter? \")\n",
    "main = input(\"What is your favourite main? \")\n",
    "dessert = input(\"What is your favourite dessert? \")\n",
    "drink = input(\"What is your favourite drink? \")\n",
    "print(\"So, \" + name + \" Your favourite meal is, \" + starter +  \" Then, \"  + main + \" with a glass of \" + drink + \" And to finish off with some \" + dessert)"
   ]
  },
  {
   "cell_type": "code",
   "execution_count": 44,
   "metadata": {},
   "outputs": [
    {
     "output_type": "stream",
     "name": "stdout",
     "text": [
      "Motorbike =  2000\nMotorbike =  1800\nMotorbike =  1600\nMotorbike =  1400\nMotorbike =  1200\nMotorbike =  1000\n"
     ]
    }
   ],
   "source": [
    "Motorbike = 2000\n",
    "while Motorbike >= 1000:#\n",
    "    print(\"Motorbike = \", Motorbike)\n",
    "    Motorbike = Motorbike - 200\n",
    "if Motorbike == 1000:\n",
    " Print(\"Discount ended\")\n"
   ]
  },
  {
   "cell_type": "code",
   "execution_count": 40,
   "metadata": {},
   "outputs": [
    {
     "output_type": "stream",
     "name": "stdout",
     "text": [
      "Number1 = Number2**\n"
     ]
    }
   ],
   "source": [
    "Number1 =input(\"Choose a number\")\n",
    "Number2 = input(\"Choose a second number: \")\n",
    "Operator = input(\"Operator: +, -, *, /, **:\")\n",
    "\n",
    "if Operator ==\"+\":\n",
    " print(\"Number1 + Number2\")\n",
    "elif Operator ==\"-\":\n",
    " print(\"Number1 - Number2\")\n",
    "elif Operator ==\"*\":\n",
    " print(\"Number1 * Number2\")\n",
    "elif Operator == \"/\":\n",
    " print(\"Number1 / Number2\")\n",
    "elif Operator == \"**\":\n",
    " print(\"Number1 = Number2**\")\n",
    "else:\n",
    " print(\"Invalid Operator\")"
   ]
  }
 ]
}