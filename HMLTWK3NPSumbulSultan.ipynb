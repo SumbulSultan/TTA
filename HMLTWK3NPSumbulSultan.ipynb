{
  "nbformat": 4,
  "nbformat_minor": 0,
  "metadata": {
    "colab": {
      "name": "HMLTWK3NPSumbulSultan.ipynb",
      "provenance": [],
      "authorship_tag": "ABX9TyPeasXthvCuh5uey8f40u9Y",
      "include_colab_link": true
    },
    "kernelspec": {
      "name": "python3",
      "display_name": "Python 3"
    },
    "language_info": {
      "name": "python"
    }
  },
  "cells": [
    {
      "cell_type": "markdown",
      "metadata": {
        "id": "view-in-github",
        "colab_type": "text"
      },
      "source": [
        "<a href=\"https://colab.research.google.com/github/SumbulSultan/TTA/blob/main/HMLTWK3NPSumbulSultan.ipynb\" target=\"_parent\"><img src=\"https://colab.research.google.com/assets/colab-badge.svg\" alt=\"Open In Colab\"/></a>"
      ]
    },
    {
      "cell_type": "code",
      "metadata": {
        "id": "uBEKrdwFzNLb"
      },
      "source": [
        "import numpy as np \n",
        "#Task 1\n",
        "\n",
        "a = np.arange(9)\n",
        "print(\"Array from 0 to 9:\")\n",
        "print(a)"
      ],
      "execution_count": null,
      "outputs": []
    },
    {
      "cell_type": "code",
      "metadata": {
        "id": "TOg14IG96KQV"
      },
      "source": [
        "#Task 2 \n",
        "b = np.ones((3,3),dtype=bool)\n",
        "print(b)"
      ],
      "execution_count": null,
      "outputs": []
    },
    {
      "cell_type": "code",
      "metadata": {
        "id": "_d6Q8Fid6PAk"
      },
      "source": [
        "#Task 3 \n",
        "c = np.array([1,2,3,4,5,6,7,8,9,10])\n",
        "d = np.where(c%2 == 0)\n",
        "print(d)"
      ],
      "execution_count": null,
      "outputs": []
    },
    {
      "cell_type": "code",
      "metadata": {
        "id": "kn8_sBWT88XJ"
      },
      "source": [
        "#Task 4\n",
        "e = np.array([1,2,3,4,5,6,7,8,9,10])\n",
        "f = e%2 ==1 \n",
        "e[f] = -1\n",
        "print(e)"
      ],
      "execution_count": null,
      "outputs": []
    },
    {
      "cell_type": "code",
      "metadata": {
        "id": "7ytZguPk90-w"
      },
      "source": [
        "#Task 5\n",
        "g = np.array([1,2,3,4,5,6,7,8,])\n",
        "print(g)\n",
        "h = g.reshape(2,4)\n",
        "print(h)"
      ],
      "execution_count": null,
      "outputs": []
    },
    {
      "cell_type": "code",
      "metadata": {
        "colab": {
          "base_uri": "https://localhost:8080/"
        },
        "id": "MYwnFJMvUml4",
        "outputId": "4f46e984-a1e2-4f97-cb9f-ea10e1412571"
      },
      "source": [
        "#Task 6 \n",
        "i = np.arange(1,10).reshape(3,3)\n",
        "print(i)\n",
        "j = np.arange(10,19).reshape(3,3)\n",
        "print(j)\n",
        "k = np.dot(i,j)\n",
        "print(k)\n",
        "l = np.sum(k,axis = 1)\n",
        "print(l)"
      ],
      "execution_count": 10,
      "outputs": [
        {
          "output_type": "stream",
          "text": [
            "[[1 2 3]\n",
            " [4 5 6]\n",
            " [7 8 9]]\n",
            "[[10 11 12]\n",
            " [13 14 15]\n",
            " [16 17 18]]\n",
            "[[ 84  90  96]\n",
            " [201 216 231]\n",
            " [318 342 366]]\n",
            "[ 270  648 1026]\n"
          ],
          "name": "stdout"
        }
      ]
    }
  ]
}