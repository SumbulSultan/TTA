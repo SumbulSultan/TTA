{
 "metadata": {
  "language_info": {
   "codemirror_mode": {
    "name": "ipython",
    "version": 3
   },
   "file_extension": ".py",
   "mimetype": "text/x-python",
   "name": "python",
   "nbconvert_exporter": "python",
   "pygments_lexer": "ipython3",
   "version": "3.9.2-final"
  },
  "orig_nbformat": 2,
  "kernelspec": {
   "name": "python392jvsc74a57bd0b617106f7c4154b916282ad7b07ba347bdfcfd9b9474270c9523bae2fd61cdb0",
   "display_name": "Python 3.9.2 64-bit"
  },
  "metadata": {
   "interpreter": {
    "hash": "b617106f7c4154b916282ad7b07ba347bdfcfd9b9474270c9523bae2fd61cdb0"
   }
  }
 },
 "nbformat": 4,
 "nbformat_minor": 2,
 "cells": [
  {
   "cell_type": "code",
   "execution_count": 1,
   "metadata": {},
   "outputs": [
    {
     "output_type": "stream",
     "name": "stdout",
     "text": [
      "This number is smaller than 10\n"
     ]
    }
   ],
   "source": [
    "Number =int(input(\"Please pick a number\"))\n",
    "if Number > 10:\n",
    "    print(\"This number is Greater than 10\")\n",
    "else:\n",
    "    print(\"This number is smaller than 10\")"
   ]
  },
  {
   "cell_type": "code",
   "execution_count": 5,
   "metadata": {},
   "outputs": [
    {
     "output_type": "stream",
     "name": "stdout",
     "text": [
      "Motorbike =  2000\nMotorbike =  1800.0\nMotorbike =  1620.0\nMotorbike =  1458.0\nMotorbike =  1312.2\nMotorbike =  1180.98\nMotorbike =  1062.882\n"
     ]
    }
   ],
   "source": [
    "Motorbike = 2000\n",
    "while Motorbike >= 1000:#\n",
    "    print(\"Motorbike = \", Motorbike)\n",
    "    Motorbike = Motorbike *0.90\n",
    "if Motorbike == 1000:\n",
    " Print(\"Discount ended\")"
   ]
  }
 ]
}